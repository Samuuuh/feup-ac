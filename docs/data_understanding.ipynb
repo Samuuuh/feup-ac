{
 "cells": [
  {
   "cell_type": "markdown",
   "metadata": {
    "pycharm": {
     "name": "#%%\n"
    }
   },
   "source": [
    "# Data Understanding"
   ]
  },
  {
   "cell_type": "markdown",
   "metadata": {},
   "source": [
    "The development data is split into 7 files, each with some table of a relational model. Let's start creating a function that reads one of the files and creates a DataFrame with its data."
   ]
  },
  {
   "cell_type": "code",
   "execution_count": 8,
   "metadata": {},
   "outputs": [],
   "source": [
    "# Libraries\n",
    "import matplotlib.pyplot as plt\n",
    "import pandas as pd\n",
    "import plotly.graph_objects as go\n",
    "import seaborn as sns\n",
    "\n",
    "# displays plots in the notebook\n",
    "%matplotlib inline\n",
    "\n",
    "def read_frame(name: str) -> pd.DataFrame:\n",
    "    return pd.read_csv('../data/preprocessed/' + name + '.csv', sep=';')"
   ]
  },
  {
   "cell_type": "markdown",
   "metadata": {},
   "source": [
    "## Loans\n",
    "\n",
    "Now we can read the main file, the loans file, and show its first rows so we know which information it has."
   ]
  },
  {
   "cell_type": "code",
   "execution_count": 68,
   "metadata": {
    "pycharm": {
     "name": "#%%\n"
    }
   },
   "outputs": [
    {
     "data": {
      "text/html": [
       "<div>\n",
       "<style scoped>\n",
       "    .dataframe tbody tr th:only-of-type {\n",
       "        vertical-align: middle;\n",
       "    }\n",
       "\n",
       "    .dataframe tbody tr th {\n",
       "        vertical-align: top;\n",
       "    }\n",
       "\n",
       "    .dataframe thead th {\n",
       "        text-align: right;\n",
       "    }\n",
       "</style>\n",
       "<table border=\"1\" class=\"dataframe\">\n",
       "  <thead>\n",
       "    <tr style=\"text-align: right;\">\n",
       "      <th></th>\n",
       "      <th>loan_id</th>\n",
       "      <th>account_id</th>\n",
       "      <th>amount</th>\n",
       "      <th>duration</th>\n",
       "      <th>payments</th>\n",
       "      <th>status</th>\n",
       "      <th>loan_year</th>\n",
       "      <th>loan_month</th>\n",
       "      <th>loan_day</th>\n",
       "      <th>loan_date</th>\n",
       "    </tr>\n",
       "  </thead>\n",
       "  <tbody>\n",
       "    <tr>\n",
       "      <th>0</th>\n",
       "      <td>5314</td>\n",
       "      <td>1787</td>\n",
       "      <td>96396</td>\n",
       "      <td>12</td>\n",
       "      <td>8033</td>\n",
       "      <td>-1</td>\n",
       "      <td>1993</td>\n",
       "      <td>7</td>\n",
       "      <td>5</td>\n",
       "      <td>1993-07-05</td>\n",
       "    </tr>\n",
       "    <tr>\n",
       "      <th>1</th>\n",
       "      <td>5316</td>\n",
       "      <td>1801</td>\n",
       "      <td>165960</td>\n",
       "      <td>36</td>\n",
       "      <td>4610</td>\n",
       "      <td>1</td>\n",
       "      <td>1993</td>\n",
       "      <td>7</td>\n",
       "      <td>11</td>\n",
       "      <td>1993-07-11</td>\n",
       "    </tr>\n",
       "    <tr>\n",
       "      <th>2</th>\n",
       "      <td>6863</td>\n",
       "      <td>9188</td>\n",
       "      <td>127080</td>\n",
       "      <td>60</td>\n",
       "      <td>2118</td>\n",
       "      <td>1</td>\n",
       "      <td>1993</td>\n",
       "      <td>7</td>\n",
       "      <td>28</td>\n",
       "      <td>1993-07-28</td>\n",
       "    </tr>\n",
       "    <tr>\n",
       "      <th>3</th>\n",
       "      <td>5325</td>\n",
       "      <td>1843</td>\n",
       "      <td>105804</td>\n",
       "      <td>36</td>\n",
       "      <td>2939</td>\n",
       "      <td>1</td>\n",
       "      <td>1993</td>\n",
       "      <td>8</td>\n",
       "      <td>3</td>\n",
       "      <td>1993-08-03</td>\n",
       "    </tr>\n",
       "    <tr>\n",
       "      <th>4</th>\n",
       "      <td>7240</td>\n",
       "      <td>11013</td>\n",
       "      <td>274740</td>\n",
       "      <td>60</td>\n",
       "      <td>4579</td>\n",
       "      <td>1</td>\n",
       "      <td>1993</td>\n",
       "      <td>9</td>\n",
       "      <td>6</td>\n",
       "      <td>1993-09-06</td>\n",
       "    </tr>\n",
       "  </tbody>\n",
       "</table>\n",
       "</div>"
      ],
      "text/plain": [
       "   loan_id  account_id  amount  duration  payments  status  loan_year  \\\n",
       "0     5314        1787   96396        12      8033      -1       1993   \n",
       "1     5316        1801  165960        36      4610       1       1993   \n",
       "2     6863        9188  127080        60      2118       1       1993   \n",
       "3     5325        1843  105804        36      2939       1       1993   \n",
       "4     7240       11013  274740        60      4579       1       1993   \n",
       "\n",
       "   loan_month  loan_day   loan_date  \n",
       "0           7         5  1993-07-05  \n",
       "1           7        11  1993-07-11  \n",
       "2           7        28  1993-07-28  \n",
       "3           8         3  1993-08-03  \n",
       "4           9         6  1993-09-06  "
      ]
     },
     "execution_count": 68,
     "metadata": {},
     "output_type": "execute_result"
    }
   ],
   "source": [
    "loans = read_frame('loan_dev')\n",
    "loans.head()"
   ]
  },
  {
   "cell_type": "markdown",
   "metadata": {},
   "source": [
    "Now let's do some analysis of the attributes, starting with the loan_id and account_id, the dataset should have no duplicated loans, but two loans of the same account are allowed."
   ]
  },
  {
   "cell_type": "code",
   "execution_count": 3,
   "metadata": {},
   "outputs": [
    {
     "name": "stdout",
     "output_type": "stream",
     "text": [
      "There are no duplicated loans.\n",
      "There are no accounts that have started two loans.\n"
     ]
    }
   ],
   "source": [
    "print('There are', '' if loans.loan_id.duplicated().any() else 'no', 'duplicated loans.')\n",
    "print('There are', '' if loans.account_id.duplicated().any() else 'no', 'accounts that have started two loans.')"
   ]
  },
  {
   "cell_type": "markdown",
   "metadata": {},
   "source": [
    "### Heatmap\n",
    "\n",
    "We can start with a heatmap of the attributes of loans to see if we can visualize relationships between attributes"
   ]
  },
  {
   "cell_type": "code",
   "execution_count": 63,
   "metadata": {},
   "outputs": [
    {
     "data": {
      "text/plain": [
       "<AxesSubplot:>"
      ]
     },
     "execution_count": 63,
     "metadata": {},
     "output_type": "execute_result"
    },
    {
     "data": {
      "image/png": "[encoded data removed]",
      "text/plain": [
       "<Figure size 720x720 with 1 Axes>"
      ]
     },
     "metadata": {
      "needs_background": "light"
     },
     "output_type": "display_data"
    }
   ],
   "source": [
    "plt.figure(figsize=(10, 10))\n",
    "sns.heatmap(loans.corr(), annot=True, cbar=False)"
   ]
  },
  {
   "cell_type": "markdown",
   "metadata": {},
   "source": [
    "As we can see the duration, amount and payments variables are related, as expected, because everything goes right with the loan payment, they should create a formula that only depends on the interest rate.\n",
    "\n",
    "The status is inversely proportional to the payments and amount attributes, it also makes sense, as larger loans are harder to be paid.\n",
    "\n",
    "The coeficients of the other pairs of attributes do not show any big correlations."
   ]
  },
  {
   "cell_type": "markdown",
   "metadata": {},
   "source": [
    "### Distributions\n",
    "\n",
    "So let's analyse the distribution of values for amount and payments with two histograms."
   ]
  },
  {
   "cell_type": "code",
   "execution_count": 6,
   "metadata": {
    "scrolled": true
   },
   "outputs": [
    {
     "data": {
      "image/png": "[encoded data removed]",
      "text/plain": [
       "<Figure size 432x288 with 2 Axes>"
      ]
     },
     "metadata": {
      "needs_background": "light"
     },
     "output_type": "display_data"
    }
   ],
   "source": [
    "fig, ax = plt.subplots(1,2)\n",
    "\n",
    "# Create the graphics\n",
    "sns.histplot(data=loans, x='amount', ax=ax[0])\n",
    "sns.histplot(data=loans, x='payments', ax=ax[1])\n",
    "\n",
    "# Display the figures in a nice way\n",
    "fig.tight_layout()"
   ]
  },
  {
   "cell_type": "markdown",
   "metadata": {},
   "source": [
    "We can also see the valid values for duration."
   ]
  },
  {
   "cell_type": "code",
   "execution_count": 7,
   "metadata": {},
   "outputs": [
    {
     "name": "stdout",
     "output_type": "stream",
     "text": [
      "The values for duration are: 12 36 60 24 48\n"
     ]
    }
   ],
   "source": [
    "print(\"The values for duration are:\", *loans.duration.unique().tolist())"
   ]
  },
  {
   "cell_type": "markdown",
   "metadata": {},
   "source": [
    "As we can see, all the valid durations are a multiple of 12, so they are written in months but need to be a multiple of a year, we can convert them to years just to better visualize the values."
   ]
  },
  {
   "cell_type": "code",
   "execution_count": 9,
   "metadata": {},
   "outputs": [
    {
     "data": {
      "text/plain": [
       "<AxesSubplot:xlabel='duration', ylabel='Count'>"
      ]
     },
     "execution_count": 9,
     "metadata": {},
     "output_type": "execute_result"
    },
    {
     "data": {
      "image/png": "[encoded data removed]",
      "text/plain": [
       "<Figure size 432x288 with 1 Axes>"
      ]
     },
     "metadata": {
      "needs_background": "light"
     },
     "output_type": "display_data"
    }
   ],
   "source": [
    "loans.duration = (loans.duration / 12).astype('int')\n",
    "sns.histplot(data=loans, x='duration', discrete=True)"
   ]
  },
  {
   "cell_type": "markdown",
   "metadata": {},
   "source": [
    "The values for the duration are very balanced."
   ]
  },
  {
   "cell_type": "markdown",
   "metadata": {},
   "source": [
    "## Disp"
   ]
  },
  {
   "cell_type": "code",
   "execution_count": 11,
   "metadata": {},
   "outputs": [
    {
     "data": {
      "text/html": [
       "<div>\n",
       "<style scoped>\n",
       "    .dataframe tbody tr th:only-of-type {\n",
       "        vertical-align: middle;\n",
       "    }\n",
       "\n",
       "    .dataframe tbody tr th {\n",
       "        vertical-align: top;\n",
       "    }\n",
       "\n",
       "    .dataframe thead th {\n",
       "        text-align: right;\n",
       "    }\n",
       "</style>\n",
       "<table border=\"1\" class=\"dataframe\">\n",
       "  <thead>\n",
       "    <tr style=\"text-align: right;\">\n",
       "      <th></th>\n",
       "      <th>disp_id</th>\n",
       "      <th>client_id</th>\n",
       "      <th>account_id</th>\n",
       "      <th>type</th>\n",
       "    </tr>\n",
       "  </thead>\n",
       "  <tbody>\n",
       "    <tr>\n",
       "      <th>0</th>\n",
       "      <td>1</td>\n",
       "      <td>1</td>\n",
       "      <td>1</td>\n",
       "      <td>owner</td>\n",
       "    </tr>\n",
       "    <tr>\n",
       "      <th>1</th>\n",
       "      <td>2</td>\n",
       "      <td>2</td>\n",
       "      <td>2</td>\n",
       "      <td>owner</td>\n",
       "    </tr>\n",
       "    <tr>\n",
       "      <th>2</th>\n",
       "      <td>3</td>\n",
       "      <td>3</td>\n",
       "      <td>2</td>\n",
       "      <td>disponent</td>\n",
       "    </tr>\n",
       "    <tr>\n",
       "      <th>3</th>\n",
       "      <td>4</td>\n",
       "      <td>4</td>\n",
       "      <td>3</td>\n",
       "      <td>owner</td>\n",
       "    </tr>\n",
       "    <tr>\n",
       "      <th>4</th>\n",
       "      <td>5</td>\n",
       "      <td>5</td>\n",
       "      <td>3</td>\n",
       "      <td>disponent</td>\n",
       "    </tr>\n",
       "  </tbody>\n",
       "</table>\n",
       "</div>"
      ],
      "text/plain": [
       "   disp_id  client_id  account_id       type\n",
       "0        1          1           1      owner\n",
       "1        2          2           2      owner\n",
       "2        3          3           2  disponent\n",
       "3        4          4           3      owner\n",
       "4        5          5           3  disponent"
      ]
     },
     "execution_count": 11,
     "metadata": {},
     "output_type": "execute_result"
    }
   ],
   "source": [
    "disp = read_frame(\"disp\")\n",
    "disp.head()"
   ]
  },
  {
   "cell_type": "markdown",
   "metadata": {},
   "source": [
    "Let's analyse some attributes.  \n",
    "- Let's check for repeated values in `disp_id`, `account_id` and `client_id` to check for wrong data, since the relation between `client_id` and `disp_id` should be one to one, and the relation between `account_id` and `client_id` should be one to many.  \n",
    "- We will also check the how many clients are really owners of their account."
   ]
  },
  {
   "cell_type": "code",
   "execution_count": 51,
   "metadata": {},
   "outputs": [
    {
     "name": "stdout",
     "output_type": "stream",
     "text": [
      "Duplicates in disp_id:\t\t0\n",
      "Duplicates in client_id:\t0\n",
      "Duplicates in account_id:\t1\n",
      "Owner:\t\t\t\t4500\n",
      "Disponent:\t\t\t869\n"
     ]
    }
   ],
   "source": [
    "print(\"Duplicates in disp_id:\\t\\t%d\" %disp['disp_id'].duplicated().any())\n",
    "print(\"Duplicates in client_id:\\t%d\" %disp['client_id'].duplicated().any())\n",
    "print(\"Duplicates in account_id:\\t%d\" %disp['account_id'].duplicated().any())\n",
    "\n",
    "is_owner = disp['type'].str.count(\"owner\")\n",
    "print(\"Owner:\\t\\t\\t\\t%d\" %(is_owner.sum()))\n",
    "print(\"Disponent:\\t\\t\\t%d\" %(is_owner.count() - is_owner.sum()))"
   ]
  },
  {
   "cell_type": "markdown",
   "metadata": {},
   "source": [
    "By having duplicates in `account_id`, we confirm that an account may represent many clients and that there're no errors in the `disp_id` and `client_id` columns. "
   ]
  },
  {
   "cell_type": "markdown",
   "metadata": {},
   "source": [
    "### Heatmap\n",
    "To analyse the heatmap for the disp, we need to merge the relevant fields in `loans` and `disp`"
   ]
  },
  {
   "cell_type": "code",
   "execution_count": 88,
   "metadata": {},
   "outputs": [
    {
     "name": "stdout",
     "output_type": "stream",
     "text": [
      "   account_id  status  disp_id  client_id  type\n",
      "0        1787      -1     2166       2166     0\n",
      "1        1801       1     2181       2181     0\n",
      "2        9188       1    11006      11314     0\n",
      "3        1843       1     2235       2235     0\n",
      "4       11013       1    13231      13539     0\n"
     ]
    }
   ],
   "source": [
    "loans_ = loans[['account_id', 'status']]\n",
    "merge_disp_loans = loans_.merge(right=disp, how='inner', on='account_id')\n",
    "print(merge_disp_loans.head())"
   ]
  },
  {
   "cell_type": "markdown",
   "metadata": {},
   "source": [
    "To also include the `type` in the heatmap, we must change this value to integer."
   ]
  },
  {
   "cell_type": "code",
   "execution_count": 89,
   "metadata": {},
   "outputs": [
    {
     "name": "stdout",
     "output_type": "stream",
     "text": [
      "   account_id  status  disp_id  client_id  type\n",
      "0        1787      -1     2166       2166     0\n",
      "1        1801       1     2181       2181     0\n",
      "2        9188       1    11006      11314     1\n",
      "3        1843       1     2235       2235     0\n",
      "4       11013       1    13231      13539     1\n"
     ]
    }
   ],
   "source": [
    "merge_disp_loans['type'] = disp['type'].replace('owner', 0)\n",
    "merge_disp_loans['type'] = disp['type'].replace('disponent', 1)\n",
    "print(merge_disp_loans.head())"
   ]
  },
  {
   "cell_type": "code",
   "execution_count": 90,
   "metadata": {},
   "outputs": [
    {
     "data": {
      "text/plain": [
       "<AxesSubplot:>"
      ]
     },
     "execution_count": 90,
     "metadata": {},
     "output_type": "execute_result"
    },
    {
     "data": {
      "image/png": "[encoded data removed]",
      "text/plain": [
       "<Figure size 720x720 with 1 Axes>"
      ]
     },
     "metadata": {
      "needs_background": "light"
     },
     "output_type": "display_data"
    }
   ],
   "source": [
    "plt.figure(figsize=(10, 10))\n",
    "sns.heatmap(merge_disp_loans.corr(), annot=True, cbar=False)"
   ]
  }
 ],
 "metadata": {
  "kernelspec": {
   "display_name": "Python 3 (ipykernel)",
   "language": "python",
   "name": "python3"
  },
  "language_info": {
   "codemirror_mode": {
    "name": "ipython",
    "version": 3
   },
   "file_extension": ".py",
   "mimetype": "text/x-python",
   "name": "python",
   "nbconvert_exporter": "python",
   "pygments_lexer": "ipython3",
   "version": "3.8.9"
  }
 },
 "nbformat": 4,
 "nbformat_minor": 1
}
