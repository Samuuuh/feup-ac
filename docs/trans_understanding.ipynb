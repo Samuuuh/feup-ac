{
 "cells": [
  {
   "cell_type": "code",
   "execution_count": 10,
   "id": "af96248a",
   "metadata": {},
   "outputs": [],
   "source": [
    "import pandas as pd\n",
    "import seaborn as sns\n",
    "import matplotlib.pyplot as plt\n",
    "\n",
    "def print_bar(counts, x_size=7.2, y_size=5.2):\n",
    "    sns.set_style('darkgrid')\n",
    "    sns.set(rc={'figure.figsize':(x_size, y_size)})\n",
    "\n",
    "    x = counts.index.tolist()\n",
    "    y = counts.values.tolist()\n",
    "\n",
    "    sns.barplot(x=x, y=y)\n",
    "    "
   ]
  },
  {
   "cell_type": "markdown",
   "id": "44b94778",
   "metadata": {},
   "source": [
    "## Transactions"
   ]
  },
  {
   "cell_type": "code",
   "execution_count": 4,
   "id": "d9557c35",
   "metadata": {},
   "outputs": [
    {
     "name": "stderr",
     "output_type": "stream",
     "text": [
      "c:\\users\\julia\\documents\\feup-ac\\ai\\lib\\site-packages\\IPython\\core\\interactiveshell.py:3444: DtypeWarning: Columns (7) have mixed types.Specify dtype option on import or set low_memory=False.\n",
      "  exec(code_obj, self.user_global_ns, self.user_ns)\n"
     ]
    },
    {
     "data": {
      "text/html": [
       "<div>\n",
       "<style scoped>\n",
       "    .dataframe tbody tr th:only-of-type {\n",
       "        vertical-align: middle;\n",
       "    }\n",
       "\n",
       "    .dataframe tbody tr th {\n",
       "        vertical-align: top;\n",
       "    }\n",
       "\n",
       "    .dataframe thead th {\n",
       "        text-align: right;\n",
       "    }\n",
       "</style>\n",
       "<table border=\"1\" class=\"dataframe\">\n",
       "  <thead>\n",
       "    <tr style=\"text-align: right;\">\n",
       "      <th></th>\n",
       "      <th>trans_id</th>\n",
       "      <th>account_id</th>\n",
       "      <th>type</th>\n",
       "      <th>operation</th>\n",
       "      <th>amount</th>\n",
       "      <th>balance</th>\n",
       "      <th>k_symbol</th>\n",
       "      <th>bank</th>\n",
       "      <th>account</th>\n",
       "      <th>trans_year</th>\n",
       "      <th>trans_month</th>\n",
       "      <th>trans_day</th>\n",
       "      <th>trans_date</th>\n",
       "    </tr>\n",
       "  </thead>\n",
       "  <tbody>\n",
       "    <tr>\n",
       "      <th>0</th>\n",
       "      <td>1548749</td>\n",
       "      <td>5270</td>\n",
       "      <td>credit</td>\n",
       "      <td>cash</td>\n",
       "      <td>800.0</td>\n",
       "      <td>800.0</td>\n",
       "      <td>NaN</td>\n",
       "      <td>NaN</td>\n",
       "      <td>NaN</td>\n",
       "      <td>1993</td>\n",
       "      <td>1</td>\n",
       "      <td>13</td>\n",
       "      <td>1993-01-13</td>\n",
       "    </tr>\n",
       "    <tr>\n",
       "      <th>1</th>\n",
       "      <td>1548750</td>\n",
       "      <td>5270</td>\n",
       "      <td>credit</td>\n",
       "      <td>another bank</td>\n",
       "      <td>44749.0</td>\n",
       "      <td>45549.0</td>\n",
       "      <td>NaN</td>\n",
       "      <td>IJ</td>\n",
       "      <td>80269753.0</td>\n",
       "      <td>1993</td>\n",
       "      <td>1</td>\n",
       "      <td>14</td>\n",
       "      <td>1993-01-14</td>\n",
       "    </tr>\n",
       "    <tr>\n",
       "      <th>2</th>\n",
       "      <td>3393738</td>\n",
       "      <td>11265</td>\n",
       "      <td>credit</td>\n",
       "      <td>cash</td>\n",
       "      <td>1000.0</td>\n",
       "      <td>1000.0</td>\n",
       "      <td>NaN</td>\n",
       "      <td>NaN</td>\n",
       "      <td>NaN</td>\n",
       "      <td>1993</td>\n",
       "      <td>1</td>\n",
       "      <td>14</td>\n",
       "      <td>1993-01-14</td>\n",
       "    </tr>\n",
       "    <tr>\n",
       "      <th>3</th>\n",
       "      <td>3122924</td>\n",
       "      <td>10364</td>\n",
       "      <td>credit</td>\n",
       "      <td>cash</td>\n",
       "      <td>1100.0</td>\n",
       "      <td>1100.0</td>\n",
       "      <td>NaN</td>\n",
       "      <td>NaN</td>\n",
       "      <td>NaN</td>\n",
       "      <td>1993</td>\n",
       "      <td>1</td>\n",
       "      <td>17</td>\n",
       "      <td>1993-01-17</td>\n",
       "    </tr>\n",
       "    <tr>\n",
       "      <th>4</th>\n",
       "      <td>1121963</td>\n",
       "      <td>3834</td>\n",
       "      <td>credit</td>\n",
       "      <td>cash</td>\n",
       "      <td>700.0</td>\n",
       "      <td>700.0</td>\n",
       "      <td>NaN</td>\n",
       "      <td>NaN</td>\n",
       "      <td>NaN</td>\n",
       "      <td>1993</td>\n",
       "      <td>1</td>\n",
       "      <td>19</td>\n",
       "      <td>1993-01-19</td>\n",
       "    </tr>\n",
       "  </tbody>\n",
       "</table>\n",
       "</div>"
      ],
      "text/plain": [
       "   trans_id  account_id    type     operation   amount  balance k_symbol bank  \\\n",
       "0   1548749        5270  credit          cash    800.0    800.0      NaN  NaN   \n",
       "1   1548750        5270  credit  another bank  44749.0  45549.0      NaN   IJ   \n",
       "2   3393738       11265  credit          cash   1000.0   1000.0      NaN  NaN   \n",
       "3   3122924       10364  credit          cash   1100.0   1100.0      NaN  NaN   \n",
       "4   1121963        3834  credit          cash    700.0    700.0      NaN  NaN   \n",
       "\n",
       "      account  trans_year  trans_month  trans_day  trans_date  \n",
       "0         NaN        1993            1         13  1993-01-13  \n",
       "1  80269753.0        1993            1         14  1993-01-14  \n",
       "2         NaN        1993            1         14  1993-01-14  \n",
       "3         NaN        1993            1         17  1993-01-17  \n",
       "4         NaN        1993            1         19  1993-01-19  "
      ]
     },
     "execution_count": 4,
     "metadata": {},
     "output_type": "execute_result"
    }
   ],
   "source": [
    "df_trans = pd.read_csv(\"../data/preprocessed/trans_dev.csv\", delimiter=\";\")\n",
    "df_trans.head()"
   ]
  },
  {
   "cell_type": "markdown",
   "id": "8dc688e6",
   "metadata": {},
   "source": [
    "### Columns with null\n",
    "First let's identify what columns that have null values"
   ]
  },
  {
   "cell_type": "code",
   "execution_count": 16,
   "id": "e3ebd3a4",
   "metadata": {},
   "outputs": [
    {
     "data": {
      "text/plain": [
       "trans_id       False\n",
       "account_id     False\n",
       "type           False\n",
       "operation       True\n",
       "amount         False\n",
       "balance        False\n",
       "k_symbol        True\n",
       "bank            True\n",
       "account         True\n",
       "trans_year     False\n",
       "trans_month    False\n",
       "trans_day      False\n",
       "trans_date     False\n",
       "dtype: bool"
      ]
     },
     "execution_count": 16,
     "metadata": {},
     "output_type": "execute_result"
    }
   ],
   "source": [
    "df_trans.isna().any()"
   ]
  },
  {
   "cell_type": "markdown",
   "id": "4fe9d272",
   "metadata": {},
   "source": [
    "### Columns analysis\n",
    "Now let's check what are the possible values for each columns and their frequence, considering that the columns `operation`, `k_symbol`, `bank` and `account`. These null columns needs to be carefully analysed in order to treat the null values."
   ]
  },
  {
   "cell_type": "markdown",
   "id": "221e823e",
   "metadata": {},
   "source": [
    "__ACCOUNT__  \n",
    "Let's see the mean of the number of transactions per year. This data must be important, since __might show how active a client is__."
   ]
  },
  {
   "cell_type": "code",
   "execution_count": 127,
   "id": "1734f67e",
   "metadata": {},
   "outputs": [
    {
     "name": "stdout",
     "output_type": "stream",
     "text": [
      "      account_id  count_year\n",
      "0           1535           4\n",
      "1            907           4\n",
      "2           2951           4\n",
      "3           1882           4\n",
      "4           3863           4\n",
      "...          ...         ...\n",
      "3365        1550           1\n",
      "3366        1553           1\n",
      "3367        1555           1\n",
      "3368        1556           1\n",
      "3369        2278           1\n",
      "\n",
      "[3370 rows x 2 columns]\n"
     ]
    }
   ],
   "source": [
    "## How many year per person.\n",
    "group_account_year = df_trans.groupby(by=['account_id', 'trans_year'], axis=0, as_index=False).size()\n",
    "count_account_year = group_account_year['account_id'].value_counts()\n",
    "\n",
    "index_count_year = count_account_year.index \n",
    "values_count_year = count_account_year.values\n",
    "\n",
    "df = pd.DataFrame({'account_id': index_count_year, 'count_year': values_count_year})\n",
    "df.set_axis(['ids', 'count'], axis=1, inplace=False)\n",
    "\n",
    "# Get the number of transaction per user\n",
    "group_account = df_trans.groupby(by=['account_id'], axis=0, as_index=False).size()\n",
    "\n",
    "\n",
    "# Transactions per year \n",
    "\n",
    "print(df)"
   ]
  },
  {
   "cell_type": "markdown",
   "id": "e8eb25a1",
   "metadata": {},
   "source": [
    "__TYPE__"
   ]
  },
  {
   "cell_type": "code",
   "execution_count": 20,
   "id": "fa9430b4",
   "metadata": {},
   "outputs": [
    {
     "data": {
      "text/plain": [
       "withdrawal    237217\n",
       "credit        159468\n",
       "Name: type, dtype: int64"
      ]
     },
     "execution_count": 20,
     "metadata": {},
     "output_type": "execute_result"
    }
   ],
   "source": [
    "df_trans['type'].value_counts()"
   ]
  },
  {
   "cell_type": "markdown",
   "id": "bd3411f8",
   "metadata": {},
   "source": [
    "__OPERATION__ "
   ]
  },
  {
   "cell_type": "code",
   "execution_count": 21,
   "id": "64bf457c",
   "metadata": {},
   "outputs": [
    {
     "data": {
      "text/plain": [
       "cash            227472\n",
       "another bank     97242\n",
       "credit card       1210\n",
       "Name: operation, dtype: int64"
      ]
     },
     "execution_count": 21,
     "metadata": {},
     "output_type": "execute_result"
    }
   ],
   "source": [
    "df_trans['operation'].value_counts()"
   ]
  },
  {
   "cell_type": "markdown",
   "id": "b7d63c2e",
   "metadata": {},
   "source": [
    "__K_SYMBOL__  \n",
    "\n",
    "From this analysis, we have concluded taht __the number of NaN values is too high to discard__ and also too high to substitute for any of the other values.  \n",
    "Thus prehaps should be considered as a value. It's still important to correlate this column with others to search for any patterns. _(to see with the group)_"
   ]
  },
  {
   "cell_type": "code",
   "execution_count": 63,
   "id": "b1dabf03",
   "metadata": {},
   "outputs": [
    {
     "name": "stdout",
     "output_type": "stream",
     "text": [
      "interest credited                        70761\n",
      "payment for statement                    58377\n",
      "household                                42839\n",
      "old-age pension                          13502\n",
      "insurrance payment                        6592\n",
      "sanction interest if negative balance      305\n",
      "Name: k_symbol, dtype: int64\n",
      "\n",
      "NaN: 204309\n"
     ]
    }
   ],
   "source": [
    "counts_k = df_trans['k_symbol'].value_counts()\n",
    "print(counts_k)\n",
    "print(\"\\nNaN:\", df_trans['k_symbol'].isna().sum())"
   ]
  },
  {
   "cell_type": "code",
   "execution_count": 78,
   "id": "f1001521",
   "metadata": {},
   "outputs": [
    {
     "data": {
      "image/png": "[encoded data removed]",
      "text/plain": [
       "<Figure size 1130.4x595.44 with 1 Axes>"
      ]
     },
     "metadata": {},
     "output_type": "display_data"
    }
   ],
   "source": [
    "print_bar(counts_k, x_size=15.7, y_size=8.27)"
   ]
  },
  {
   "cell_type": "markdown",
   "id": "6152f2e6",
   "metadata": {},
   "source": [
    "__BANK__  \n",
    "There's a big ammount of accounts that do not have specified the bank account."
   ]
  },
  {
   "cell_type": "code",
   "execution_count": 86,
   "id": "5121ff7b",
   "metadata": {
    "scrolled": true
   },
   "outputs": [
    {
     "name": "stdout",
     "output_type": "stream",
     "text": [
      "ST    8114\n",
      "GH    7886\n",
      "EF    7878\n",
      "AB    7666\n",
      "UV    7618\n",
      "OP    7595\n",
      "IJ    7536\n",
      "YZ    7471\n",
      "QR    7413\n",
      "KL    7397\n",
      "WX    7033\n",
      "CD    7009\n",
      "MN    6626\n",
      "Name: bank, dtype: int64\n",
      "\n",
      "NaN: 299443\n"
     ]
    }
   ],
   "source": [
    "counts_bank = df_trans['bank'].value_counts()\n",
    "print(counts_bank)\n",
    "print(\"\\nNaN:\", df_trans['bank'].isna().sum())"
   ]
  },
  {
   "cell_type": "markdown",
   "id": "2d0486ed",
   "metadata": {},
   "source": [
    "__ACCOUNT__ "
   ]
  },
  {
   "cell_type": "code",
   "execution_count": 37,
   "id": "e2d79e05",
   "metadata": {},
   "outputs": [
    {
     "name": "stdout",
     "output_type": "stream",
     "text": [
      "0.0           4987\n",
      "15916598.0      48\n",
      "62457513.0      48\n",
      "6149286.0       48\n",
      "42988401.0      48\n",
      "              ... \n",
      "99218499.0       1\n",
      "54261672.0       1\n",
      "28306174.0       1\n",
      "91523855.0       1\n",
      "53761804.0       1\n",
      "Name: account, Length: 4536, dtype: int64\n",
      "\n",
      "NaN: 294456\n"
     ]
    }
   ],
   "source": [
    "counts_account = df_trans['account'].value_counts()\n",
    "print(counts_account)\n",
    "print(\"\\nNaN:\", df_trans['account'].isna().sum())"
   ]
  },
  {
   "cell_type": "markdown",
   "id": "2ffcb937",
   "metadata": {},
   "source": [
    "__OPERATION__"
   ]
  },
  {
   "cell_type": "code",
   "execution_count": 68,
   "id": "7dd1e29a",
   "metadata": {},
   "outputs": [
    {
     "name": "stdout",
     "output_type": "stream",
     "text": [
      "cash            227472\n",
      "another bank     97242\n",
      "credit card       1210\n",
      "Name: operation, dtype: int64\n",
      "\n",
      "NaN: 70761\n"
     ]
    }
   ],
   "source": [
    "counts_operation = df_trans['operation'].value_counts()\n",
    "print(counts_operation)\n",
    "print(\"\\nNaN:\", df_trans['operation'].isna().sum())"
   ]
  },
  {
   "cell_type": "code",
   "execution_count": 79,
   "id": "9a826e3e",
   "metadata": {},
   "outputs": [
    {
     "data": {
      "image/png": "[encoded data removed]",
      "text/plain": [
       "<Figure size 518.4x374.4 with 1 Axes>"
      ]
     },
     "metadata": {},
     "output_type": "display_data"
    }
   ],
   "source": [
    "print_bar(counts_operation)"
   ]
  },
  {
   "cell_type": "markdown",
   "id": "9552ec1f",
   "metadata": {},
   "source": [
    "__YEAR__"
   ]
  },
  {
   "cell_type": "code",
   "execution_count": 58,
   "id": "b0ee1959",
   "metadata": {},
   "outputs": [
    {
     "name": "stdout",
     "output_type": "stream",
     "text": [
      "1996    165501\n",
      "1995    117745\n",
      "1994     85610\n",
      "1993     27829\n",
      "Name: trans_year, dtype: int64\n"
     ]
    }
   ],
   "source": [
    "counts_year = df_trans['trans_year'].value_counts()\n",
    "print(counts_year)"
   ]
  },
  {
   "cell_type": "code",
   "execution_count": 80,
   "id": "044a89c9",
   "metadata": {},
   "outputs": [
    {
     "data": {
      "image/png": "[encoded data removed]",
      "text/plain": [
       "<Figure size 518.4x374.4 with 1 Axes>"
      ]
     },
     "metadata": {},
     "output_type": "display_data"
    }
   ],
   "source": [
    "print_bar(counts_year)"
   ]
  },
  {
   "cell_type": "markdown",
   "id": "8feb8bb8",
   "metadata": {},
   "source": [
    "__MONTH__"
   ]
  },
  {
   "cell_type": "code",
   "execution_count": 81,
   "id": "65d2061a",
   "metadata": {},
   "outputs": [
    {
     "name": "stdout",
     "output_type": "stream",
     "text": [
      "12    43887\n",
      "1     42005\n",
      "11    36729\n",
      "10    35792\n",
      "9     34259\n",
      "8     32937\n",
      "6     32583\n",
      "7     31485\n",
      "5     28917\n",
      "4     27373\n",
      "3     26407\n",
      "2     24311\n",
      "Name: trans_month, dtype: int64\n"
     ]
    }
   ],
   "source": [
    "counts_month = df_trans['trans_month'].value_counts()\n",
    "print(counts_month)"
   ]
  },
  {
   "cell_type": "code",
   "execution_count": 82,
   "id": "f74c9712",
   "metadata": {},
   "outputs": [
    {
     "data": {
      "image/png": "[encoded data removed]",
      "text/plain": [
       "<Figure size 518.4x374.4 with 1 Axes>"
      ]
     },
     "metadata": {},
     "output_type": "display_data"
    }
   ],
   "source": [
    "print_bar(counts_month)"
   ]
  },
  {
   "cell_type": "markdown",
   "id": "bd3d338a",
   "metadata": {},
   "source": [
    "__DAYS__"
   ]
  },
  {
   "cell_type": "code",
   "execution_count": 84,
   "id": "faaf8ac4",
   "metadata": {},
   "outputs": [
    {
     "name": "stdout",
     "output_type": "stream",
     "text": [
      "31    77774\n",
      "30    48971\n",
      "13    18335\n",
      "14    18231\n",
      "12    17984\n",
      "6     17873\n",
      "5     17858\n",
      "9     17577\n",
      "11    17315\n",
      "7     16996\n",
      "8     16839\n",
      "10    15938\n",
      "28     9241\n",
      "29     8014\n",
      "18     5839\n",
      "15     4973\n",
      "17     4944\n",
      "16     4937\n",
      "4      4532\n",
      "19     4466\n",
      "20     4448\n",
      "2      4433\n",
      "23     4429\n",
      "22     4398\n",
      "3      4371\n",
      "26     4364\n",
      "27     4331\n",
      "1      4327\n",
      "25     4326\n",
      "21     4313\n",
      "24     4308\n",
      "Name: trans_day, dtype: int64\n"
     ]
    }
   ],
   "source": [
    "counts_day = df_trans['trans_day'].value_counts()\n",
    "print(counts_day)"
   ]
  },
  {
   "cell_type": "code",
   "execution_count": 85,
   "id": "08aeeed2",
   "metadata": {},
   "outputs": [
    {
     "data": {
      "image/png": "[encoded data removed]",
      "text/plain": [
       "<Figure size 518.4x374.4 with 1 Axes>"
      ]
     },
     "metadata": {},
     "output_type": "display_data"
    }
   ],
   "source": [
    "print_bar(counts_day)"
   ]
  },
  {
   "cell_type": "markdown",
   "id": "61eef973",
   "metadata": {},
   "source": [
    "### Distribution"
   ]
  },
  {
   "cell_type": "markdown",
   "id": "7634f52a",
   "metadata": {},
   "source": [
    "__AMOUNT__  \n",
    "Here we see that the majority of the people made transactions around the values (0, 10000]."
   ]
  },
  {
   "cell_type": "code",
   "execution_count": 34,
   "id": "2d4b758f",
   "metadata": {},
   "outputs": [
    {
     "data": {
      "image/png": "[encoded data removed]",
      "text/plain": [
       "<Figure size 432x288 with 1 Axes>"
      ]
     },
     "metadata": {
      "needs_background": "light"
     },
     "output_type": "display_data"
    }
   ],
   "source": [
    "fig, ax = plt.subplots()\n",
    "\n",
    "# Create the graphics\n",
    "plt.hist(df_trans['amount'])\n",
    "ax.set_title(\"Amount of transactions\")\n",
    "ax.set_xlabel(\"Transaction amount\")\n",
    "ax.set_ylabel(\"Frequence\")\n",
    "# Display the figures in a nice way\n",
    "fig.tight_layout()"
   ]
  },
  {
   "cell_type": "code",
   "execution_count": 35,
   "id": "942e201f",
   "metadata": {},
   "outputs": [
    {
     "data": {
      "image/png": "[encoded data removed]",
      "text/plain": [
       "<Figure size 432x288 with 1 Axes>"
      ]
     },
     "metadata": {
      "needs_background": "light"
     },
     "output_type": "display_data"
    }
   ],
   "source": [
    "fig, ax = plt.subplots()\n",
    "\n",
    "# Create the graphics\n",
    "plt.hist(df_trans['balance'])\n",
    "ax.set_title(\"Balance amount\")\n",
    "ax.set_xlabel(\"Balance\")\n",
    "ax.set_ylabel(\"Frequence\")\n",
    "# Display the figures in a nice way\n",
    "fig.tight_layout()"
   ]
  },
  {
   "cell_type": "markdown",
   "id": "5d6a9963",
   "metadata": {},
   "source": [
    "### Heatmap"
   ]
  },
  {
   "cell_type": "code",
   "execution_count": 36,
   "id": "b39999d2",
   "metadata": {},
   "outputs": [
    {
     "data": {
      "text/plain": [
       "<AxesSubplot:>"
      ]
     },
     "execution_count": 36,
     "metadata": {},
     "output_type": "execute_result"
    },
    {
     "data": {
      "image/png": "[encoded data removed]",
      "text/plain": [
       "<Figure size 720x720 with 1 Axes>"
      ]
     },
     "metadata": {
      "needs_background": "light"
     },
     "output_type": "display_data"
    }
   ],
   "source": [
    "plt.figure(figsize=(10, 10))\n",
    "sns.heatmap(df_trans.corr(), annot=True, cbar=False)"
   ]
  },
  {
   "cell_type": "markdown",
   "id": "be8d51a1",
   "metadata": {},
   "source": [
    "### New variables\n",
    "We can't just merge the information the transactions to the loans, once the relation transaction account is one to many. \n",
    "Thus, to make use of the information in transactions, new variable must be created and joined in the `loans` table."
   ]
  },
  {
   "cell_type": "code",
   "execution_count": null,
   "id": "980d3d2f",
   "metadata": {},
   "outputs": [],
   "source": []
  }
 ],
 "metadata": {
  "kernelspec": {
   "display_name": "Python 3 (ipykernel)",
   "language": "python",
   "name": "python3"
  },
  "language_info": {
   "codemirror_mode": {
    "name": "ipython",
    "version": 3
   },
   "file_extension": ".py",
   "mimetype": "text/x-python",
   "name": "python",
   "nbconvert_exporter": "python",
   "pygments_lexer": "ipython3",
   "version": "3.9.5"
  }
 },
 "nbformat": 4,
 "nbformat_minor": 5
}
